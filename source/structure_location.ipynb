{
 "cells": [
  {
   "cell_type": "code",
   "execution_count": 1,
   "id": "4076ea2e",
   "metadata": {},
   "outputs": [
    {
     "name": "stdout",
     "output_type": "stream",
     "text": [
      "--2025-06-18 18:09:54--  https://ftp.ncbi.nlm.nih.gov/genomes/all/GCF/022/581/195/GCF_022581195.2_ilHelZeax1.1/GCF_022581195.2_ilHelZeax1.1_genomic.gff.gz\n",
      "Распознаётся ftp.ncbi.nlm.nih.gov (ftp.ncbi.nlm.nih.gov)… 130.14.250.13, 130.14.250.7, 130.14.250.12, ...\n",
      "Подключение к ftp.ncbi.nlm.nih.gov (ftp.ncbi.nlm.nih.gov)|130.14.250.13|:443... соединение установлено.\n",
      "HTTP-запрос отправлен. Ожидание ответа… 200 OK\n",
      "Длина: 6435348 (6,1M) [application/x-gzip]\n",
      "Сохранение в: «GCF_022581195.2_ilHelZeax1.1_genomic.gff.gz»\n",
      "\n",
      "GCF_022581195.2_ilH 100%[===================>]   6,14M   486KB/s    за 9,3s    \n",
      "\n",
      "2025-06-18 18:10:04 (679 KB/s) - «GCF_022581195.2_ilHelZeax1.1_genomic.gff.gz» сохранён [6435348/6435348]\n",
      "\n"
     ]
    }
   ],
   "source": [
    "!wget https://ftp.ncbi.nlm.nih.gov/genomes/all/GCF/022/581/195/GCF_022581195.2_ilHelZeax1.1/GCF_022581195.2_ilHelZeax1.1_genomic.gff.gz\n",
    "!gunzip ./GCF_022581195.2_ilHelZeax1.1_genomic.gff.gz\n",
    "!mv GCF_022581195.2_ilHelZeax1.1_genomic.gff genomic.gff"
   ]
  },
  {
   "cell_type": "code",
   "execution_count": 2,
   "id": "9fd96204",
   "metadata": {},
   "outputs": [
    {
     "name": "stdout",
     "output_type": "stream",
     "text": [
      "##gff-version 3\n",
      "#!gff-spec-version 1.21\n",
      "#!processor NCBI annotwriter\n",
      "#!genome-build ilHelZeax1.1\n",
      "#!genome-build-accession NCBI_Assembly:GCF_022581195.2\n",
      "#!annotation-source NCBI Helicoverpa zea Annotation Release 100\n",
      "##sequence-region NC_061452.1 1 15512169\n",
      "##species https://www.ncbi.nlm.nih.gov/Taxonomy/Browser/wwwtax.cgi?id=7113\n",
      "NC_061452.1\tRefSeq\tregion\t1\t15512169\t.\t+\t.\tID=NC_061452.1:1..15512169;Dbxref=taxon:7113;Name=1;chromosome=1;collected-by=USDA-ARS Genetics and Sustainability Agricultural Research Unit%2C Starkville%2C MS%2C USA;collection-date=2011;country=USA: Starkville%2C MS;dev-stage=pupa;gbkey=Src;genome=chromosome;isolate=HzStark_Cry1AcR;isolation-source=laboratory colony at USDA ARS Southern Insect Management Unit%2C Stoneville%2C MS;mol_type=genomic DNA;sex=male;tissue-type=Whole body\n",
      "NC_061452.1\tGnomon\tgene\t2693\t4723\t.\t+\t.\tID=gene-LOC124645826;Dbxref=GeneID:124645826;Name=LOC124645826;gbkey=Gene;gene=LOC124645826;gene_biotype=protein_coding\n"
     ]
    }
   ],
   "source": [
    "!head genomic.gff"
   ]
  },
  {
   "cell_type": "code",
   "execution_count": 3,
   "id": "64a4177a",
   "metadata": {},
   "outputs": [
    {
     "name": "stdout",
     "output_type": "stream",
     "text": [
      "rm: gene.bed: No such file or directory\n",
      "rm: exon.bed: No such file or directory\n",
      "rm: CDS.bed: No such file or directory\n",
      "rm: mRNA.bed: No such file or directory\n"
     ]
    }
   ],
   "source": [
    "!rm 'gene.bed' 'exon.bed' 'CDS.bed' 'mRNA.bed'\n",
    "\n",
    "with open('genomic.gff', 'r') as f:\n",
    "    for ind, line in enumerate(f.readlines()):\n",
    "        if ind < 7:\n",
    "            continue\n",
    "        if line.startswith('#'):\n",
    "            continue\n",
    "        feature = line.split()[2]\n",
    "        if not feature in ['mRNA', 'CDS', 'gene', 'exon']:\n",
    "            continue\n",
    "        file_name = f'{feature}.bed'\n",
    "        with open(file_name, 'a') as g:\n",
    "            add = line.split()[0] + '\\t' + line.split()[3] + '\\t' + line.split()[4] + '\\t' + 'name\\tscore\\t' + line.split()[6] + '\\n'\n",
    "            g.write(add)"
   ]
  },
  {
   "cell_type": "code",
   "execution_count": 6,
   "id": "0aef9afb",
   "metadata": {},
   "outputs": [],
   "source": [
    "!bedtools subtract -a gene.bed -b exon.bed > intron.bed"
   ]
  },
  {
   "cell_type": "code",
   "execution_count": 7,
   "id": "f829bc4c",
   "metadata": {},
   "outputs": [
    {
     "name": "stdout",
     "output_type": "stream",
     "text": [
      "rm: lengthes.txt: No such file or directory\n",
      "NC_061452.1\t15512169\n",
      "NC_061453.1\t15061584\n",
      "NC_061454.1\t14695159\n",
      "NC_061455.1\t14165716\n",
      "NC_061456.1\t14051263\n",
      "NC_061457.1\t14023251\n",
      "NC_061458.1\t13649923\n",
      "NC_061459.1\t13649271\n",
      "NC_061460.1\t13615264\n",
      "NC_061461.1\t13258385\n"
     ]
    }
   ],
   "source": [
    "from Bio import SeqIO\n",
    "\n",
    "!rm 'lengthes.txt'\n",
    "\n",
    "input_file = \"genomic.fna\"\n",
    "\n",
    "for record in SeqIO.parse(input_file, \"fasta\"):\n",
    "    name, sequence = record.id, str(record.seq)\n",
    "    with open('lengthes.txt', 'a') as f:\n",
    "        f.write(f'{name}\\t{len(sequence)}\\n')\n",
    "\n",
    "!head lengthes.txt"
   ]
  },
  {
   "cell_type": "code",
   "execution_count": 8,
   "id": "62ee1d99",
   "metadata": {},
   "outputs": [],
   "source": [
    "!bedtools flank -l 1000 -r 0 -i gene.bed -g lengthes.txt -s > upstream.bed"
   ]
  },
  {
   "cell_type": "code",
   "execution_count": 9,
   "id": "c8ef0609",
   "metadata": {},
   "outputs": [],
   "source": [
    "!bedtools flank -r 200 -l 0 -i gene.bed -g lengthes.txt -s > downstream.bed"
   ]
  },
  {
   "cell_type": "code",
   "execution_count": 10,
   "id": "982c08a5",
   "metadata": {},
   "outputs": [],
   "source": [
    "!bedtools complement -i gene.bed -g lengthes.txt > intergenic.bed"
   ]
  },
  {
   "cell_type": "code",
   "execution_count": null,
   "id": "8a2a2e4f",
   "metadata": {},
   "outputs": [
    {
     "data": {
      "text/html": [
       "<div>\n",
       "<style scoped>\n",
       "    .dataframe tbody tr th:only-of-type {\n",
       "        vertical-align: middle;\n",
       "    }\n",
       "\n",
       "    .dataframe tbody tr th {\n",
       "        vertical-align: top;\n",
       "    }\n",
       "\n",
       "    .dataframe thead th {\n",
       "        text-align: right;\n",
       "    }\n",
       "</style>\n",
       "<table border=\"1\" class=\"dataframe\">\n",
       "  <thead>\n",
       "    <tr style=\"text-align: right;\">\n",
       "      <th></th>\n",
       "      <th>G4</th>\n",
       "      <th>zhunt</th>\n",
       "      <th>zdnabert</th>\n",
       "      <th>G4_prob</th>\n",
       "      <th>zhunt_prob</th>\n",
       "      <th>zdnabert_prob</th>\n",
       "    </tr>\n",
       "  </thead>\n",
       "  <tbody>\n",
       "    <tr>\n",
       "      <th>exon</th>\n",
       "      <td>1722</td>\n",
       "      <td>269443</td>\n",
       "      <td>27074</td>\n",
       "      <td>0.106758</td>\n",
       "      <td>0.166794</td>\n",
       "      <td>0.283041</td>\n",
       "    </tr>\n",
       "    <tr>\n",
       "      <th>intron</th>\n",
       "      <td>7923</td>\n",
       "      <td>802370</td>\n",
       "      <td>37805</td>\n",
       "      <td>0.491197</td>\n",
       "      <td>0.496693</td>\n",
       "      <td>0.395227</td>\n",
       "    </tr>\n",
       "    <tr>\n",
       "      <th>upstream</th>\n",
       "      <td>449</td>\n",
       "      <td>53385</td>\n",
       "      <td>2858</td>\n",
       "      <td>0.027836</td>\n",
       "      <td>0.033047</td>\n",
       "      <td>0.029879</td>\n",
       "    </tr>\n",
       "    <tr>\n",
       "      <th>downstream</th>\n",
       "      <td>62</td>\n",
       "      <td>9514</td>\n",
       "      <td>364</td>\n",
       "      <td>0.003844</td>\n",
       "      <td>0.005889</td>\n",
       "      <td>0.003805</td>\n",
       "    </tr>\n",
       "    <tr>\n",
       "      <th>intergenic</th>\n",
       "      <td>5974</td>\n",
       "      <td>480711</td>\n",
       "      <td>27553</td>\n",
       "      <td>0.370366</td>\n",
       "      <td>0.297576</td>\n",
       "      <td>0.288049</td>\n",
       "    </tr>\n",
       "  </tbody>\n",
       "</table>\n",
       "</div>"
      ],
      "text/plain": [
       "              G4   zhunt zdnabert   G4_prob zhunt_prob zdnabert_prob\n",
       "exon        1722  269443    27074  0.106758   0.166794      0.283041\n",
       "intron      7923  802370    37805  0.491197   0.496693      0.395227\n",
       "upstream     449   53385     2858  0.027836   0.033047      0.029879\n",
       "downstream    62    9514      364  0.003844   0.005889      0.003805\n",
       "intergenic  5974  480711    27553  0.370366   0.297576      0.288049"
      ]
     },
     "execution_count": 23,
     "metadata": {},
     "output_type": "execute_result"
    }
   ],
   "source": [
    "import pandas as pd\n",
    "\n",
    "results = ['G-quadruplex.bed', 'results_zhunt.bed', 'zdnabert_predictions.bed']\n",
    "places = [ 'exon', 'intron', 'upstream', 'downstream', 'intergenic']\n",
    "counts = pd.DataFrame(columns=['G4', 'zhunt', 'zdnabert', 'G4_prob', 'zhunt_prob', 'zdnabert_prob'],\n",
    "                      index = ['exon', 'intron', 'upstream', 'downstream', 'intergenic'])\n",
    "\n",
    "for r in results:\n",
    "    name = f'new_{r}'\n",
    "    !cp {r} {name}\n",
    "\n",
    "for p in places:\n",
    "    name_place = f'{p}.bed'\n",
    "    for ind, algo in enumerate(['G4', 'zhunt', 'zdnabert']):\n",
    "        name_res = f'new_{results[ind]}'\n",
    "        name_out = f'cnt_{p}_{algo}.bed'\n",
    "        with open(name_res, 'r') as f:\n",
    "            before = len(f.readlines())\n",
    "        !bedtools intersect -a {name_res} -b {name_place} -wa > {name_out}\n",
    "        !bedtools subtract -a {name_res} -b {name_out} -A > tmp.bed\n",
    "        !rm {name_res}\n",
    "        !mv tmp.bed {name_res}\n",
    "        with open(name_res, 'r') as f:\n",
    "            after = len(f.readlines())\n",
    "        counts.loc[p, algo] = before - after\n",
    "\n",
    "for ind, algo in enumerate(['G4', 'zhunt', 'zdnabert']):\n",
    "    name_res = f'new_{results[ind]}'\n",
    "    !rm {name_res}\n",
    "    for p in places:\n",
    "        name_out = f'cnt_{p}_{algo}.bed'\n",
    "        !rm {name_out}\n",
    "\n",
    "for p in places:\n",
    "    for t in ['G4', 'zhunt', 'zdnabert']:\n",
    "        counts.loc[p, t + '_prob'] = counts.loc[p, t] / counts[t].sum()\n",
    "\n",
    "counts"
   ]
  },
  {
   "cell_type": "code",
   "execution_count": 6,
   "id": "07d4aa6e",
   "metadata": {},
   "outputs": [
    {
     "data": {
      "text/html": [
       "<div>\n",
       "<style scoped>\n",
       "    .dataframe tbody tr th:only-of-type {\n",
       "        vertical-align: middle;\n",
       "    }\n",
       "\n",
       "    .dataframe tbody tr th {\n",
       "        vertical-align: top;\n",
       "    }\n",
       "\n",
       "    .dataframe thead th {\n",
       "        text-align: right;\n",
       "    }\n",
       "</style>\n",
       "<table border=\"1\" class=\"dataframe\">\n",
       "  <thead>\n",
       "    <tr style=\"text-align: right;\">\n",
       "      <th></th>\n",
       "      <th>G4</th>\n",
       "      <th>zhunt</th>\n",
       "      <th>zdnabert</th>\n",
       "      <th>G4_prob</th>\n",
       "      <th>zhunt_prob</th>\n",
       "      <th>zdnabert_prob</th>\n",
       "    </tr>\n",
       "  </thead>\n",
       "  <tbody>\n",
       "    <tr>\n",
       "      <th>exon</th>\n",
       "      <td>2949</td>\n",
       "      <td>29436</td>\n",
       "      <td>38960</td>\n",
       "      <td>0.012168</td>\n",
       "      <td>0.12146</td>\n",
       "      <td>0.160759</td>\n",
       "    </tr>\n",
       "    <tr>\n",
       "      <th>intron</th>\n",
       "      <td>5598</td>\n",
       "      <td>28187</td>\n",
       "      <td>12458</td>\n",
       "      <td>0.053897</td>\n",
       "      <td>0.271381</td>\n",
       "      <td>0.119944</td>\n",
       "    </tr>\n",
       "    <tr>\n",
       "      <th>upstream</th>\n",
       "      <td>613</td>\n",
       "      <td>5235</td>\n",
       "      <td>2895</td>\n",
       "      <td>0.036606</td>\n",
       "      <td>0.312612</td>\n",
       "      <td>0.172877</td>\n",
       "    </tr>\n",
       "    <tr>\n",
       "      <th>downstream</th>\n",
       "      <td>100</td>\n",
       "      <td>1273</td>\n",
       "      <td>443</td>\n",
       "      <td>0.005972</td>\n",
       "      <td>0.076018</td>\n",
       "      <td>0.026454</td>\n",
       "    </tr>\n",
       "    <tr>\n",
       "      <th>intergenic</th>\n",
       "      <td>2997</td>\n",
       "      <td>7488</td>\n",
       "      <td>5395</td>\n",
       "      <td>0.220904</td>\n",
       "      <td>0.551927</td>\n",
       "      <td>0.397656</td>\n",
       "    </tr>\n",
       "  </tbody>\n",
       "</table>\n",
       "</div>"
      ],
      "text/plain": [
       "              G4  zhunt zdnabert   G4_prob zhunt_prob zdnabert_prob\n",
       "exon        2949  29436    38960  0.012168    0.12146      0.160759\n",
       "intron      5598  28187    12458  0.053897   0.271381      0.119944\n",
       "upstream     613   5235     2895  0.036606   0.312612      0.172877\n",
       "downstream   100   1273      443  0.005972   0.076018      0.026454\n",
       "intergenic  2997   7488     5395  0.220904   0.551927      0.397656"
      ]
     },
     "execution_count": 6,
     "metadata": {},
     "output_type": "execute_result"
    }
   ],
   "source": [
    "import pandas as pd\n",
    "\n",
    "results = ['G-quadruplex.bed', 'results_zhunt.bed', 'zdnabert_predictions.bed']\n",
    "places = [ 'exon', 'intron', 'upstream', 'downstream', 'intergenic']\n",
    "segments = pd.DataFrame(columns=['G4', 'zhunt', 'zdnabert', 'G4_prob', 'zhunt_prob', 'zdnabert_prob'],\n",
    "                      index = ['exon', 'intron', 'upstream', 'downstream', 'intergenic'])\n",
    "\n",
    "for p in places:\n",
    "    name_place = f'{p}.bed'\n",
    "    for ind, algo in enumerate(['G4', 'zhunt', 'zdnabert']):\n",
    "        name_res = f'{results[ind]}'\n",
    "        !bedtools intersect -wa -a {name_place} -b {name_res} | uniq > tmp\n",
    "        in_count = len(open('tmp').readlines())\n",
    "        segments.loc[p, algo] = in_count\n",
    "        segments.loc[p, algo + '_prob'] = in_count / len(open(name_place).readlines())\n",
    "\n",
    "segments"
   ]
  },
  {
   "cell_type": "code",
   "execution_count": null,
   "id": "1e934280",
   "metadata": {},
   "outputs": [],
   "source": [
    "counts.to_csv('counts.csv')\n",
    "segments.to_csv('segments.csv')"
   ]
  }
 ],
 "metadata": {
  "kernelspec": {
   "display_name": "venv",
   "language": "python",
   "name": "python3"
  },
  "language_info": {
   "codemirror_mode": {
    "name": "ipython",
    "version": 3
   },
   "file_extension": ".py",
   "mimetype": "text/x-python",
   "name": "python",
   "nbconvert_exporter": "python",
   "pygments_lexer": "ipython3",
   "version": "3.13.2"
  }
 },
 "nbformat": 4,
 "nbformat_minor": 5
}
