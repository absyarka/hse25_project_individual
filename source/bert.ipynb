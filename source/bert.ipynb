{
 "cells": [
  {
   "cell_type": "markdown",
   "id": "4898c3f7",
   "metadata": {
    "id": "3JqnAbCsfYKn",
    "papermill": {
     "duration": 0.00293,
     "end_time": "2025-06-17T22:47:09.961197",
     "exception": false,
     "start_time": "2025-06-17T22:47:09.958267",
     "status": "completed"
    },
    "tags": []
   },
   "source": [
    "# ZDNABERT"
   ]
  },
  {
   "cell_type": "code",
   "execution_count": 1,
   "id": "700c5020",
   "metadata": {
    "execution": {
     "iopub.execute_input": "2025-06-17T22:47:09.967934Z",
     "iopub.status.busy": "2025-06-17T22:47:09.967656Z",
     "iopub.status.idle": "2025-06-17T22:47:18.642332Z",
     "shell.execute_reply": "2025-06-17T22:47:18.641515Z"
    },
    "id": "e40nIdrxfb4J",
    "outputId": "ec80de04-c585-48f0-e9df-6716f1234edd",
    "papermill": {
     "duration": 8.679542,
     "end_time": "2025-06-17T22:47:18.643844",
     "exception": false,
     "start_time": "2025-06-17T22:47:09.964302",
     "status": "completed"
    },
    "tags": []
   },
   "outputs": [
    {
     "name": "stdout",
     "output_type": "stream",
     "text": [
      "Requirement already satisfied: transformers in /usr/local/lib/python3.11/dist-packages (4.51.3)\r\n",
      "Requirement already satisfied: filelock in /usr/local/lib/python3.11/dist-packages (from transformers) (3.18.0)\r\n",
      "Requirement already satisfied: huggingface-hub<1.0,>=0.30.0 in /usr/local/lib/python3.11/dist-packages (from transformers) (0.31.1)\r\n",
      "Requirement already satisfied: numpy>=1.17 in /usr/local/lib/python3.11/dist-packages (from transformers) (1.26.4)\r\n",
      "Requirement already satisfied: packaging>=20.0 in /usr/local/lib/python3.11/dist-packages (from transformers) (25.0)\r\n",
      "Requirement already satisfied: pyyaml>=5.1 in /usr/local/lib/python3.11/dist-packages (from transformers) (6.0.2)\r\n",
      "Requirement already satisfied: regex!=2019.12.17 in /usr/local/lib/python3.11/dist-packages (from transformers) (2024.11.6)\r\n",
      "Requirement already satisfied: requests in /usr/local/lib/python3.11/dist-packages (from transformers) (2.32.3)\r\n",
      "Requirement already satisfied: tokenizers<0.22,>=0.21 in /usr/local/lib/python3.11/dist-packages (from transformers) (0.21.1)\r\n",
      "Requirement already satisfied: safetensors>=0.4.3 in /usr/local/lib/python3.11/dist-packages (from transformers) (0.5.3)\r\n",
      "Requirement already satisfied: tqdm>=4.27 in /usr/local/lib/python3.11/dist-packages (from transformers) (4.67.1)\r\n",
      "Requirement already satisfied: fsspec>=2023.5.0 in /usr/local/lib/python3.11/dist-packages (from huggingface-hub<1.0,>=0.30.0->transformers) (2025.3.2)\r\n",
      "Requirement already satisfied: typing-extensions>=3.7.4.3 in /usr/local/lib/python3.11/dist-packages (from huggingface-hub<1.0,>=0.30.0->transformers) (4.13.2)\r\n",
      "Requirement already satisfied: hf-xet<2.0.0,>=1.1.0 in /usr/local/lib/python3.11/dist-packages (from huggingface-hub<1.0,>=0.30.0->transformers) (1.1.0)\r\n",
      "Requirement already satisfied: mkl_fft in /usr/local/lib/python3.11/dist-packages (from numpy>=1.17->transformers) (1.3.8)\r\n",
      "Requirement already satisfied: mkl_random in /usr/local/lib/python3.11/dist-packages (from numpy>=1.17->transformers) (1.2.4)\r\n",
      "Requirement already satisfied: mkl_umath in /usr/local/lib/python3.11/dist-packages (from numpy>=1.17->transformers) (0.1.1)\r\n",
      "Requirement already satisfied: mkl in /usr/local/lib/python3.11/dist-packages (from numpy>=1.17->transformers) (2025.1.0)\r\n",
      "Requirement already satisfied: tbb4py in /usr/local/lib/python3.11/dist-packages (from numpy>=1.17->transformers) (2022.1.0)\r\n",
      "Requirement already satisfied: mkl-service in /usr/local/lib/python3.11/dist-packages (from numpy>=1.17->transformers) (2.4.1)\r\n",
      "Requirement already satisfied: charset-normalizer<4,>=2 in /usr/local/lib/python3.11/dist-packages (from requests->transformers) (3.4.2)\r\n",
      "Requirement already satisfied: idna<4,>=2.5 in /usr/local/lib/python3.11/dist-packages (from requests->transformers) (3.10)\r\n",
      "Requirement already satisfied: urllib3<3,>=1.21.1 in /usr/local/lib/python3.11/dist-packages (from requests->transformers) (2.4.0)\r\n",
      "Requirement already satisfied: certifi>=2017.4.17 in /usr/local/lib/python3.11/dist-packages (from requests->transformers) (2025.4.26)\r\n",
      "Requirement already satisfied: intel-openmp<2026,>=2024 in /usr/local/lib/python3.11/dist-packages (from mkl->numpy>=1.17->transformers) (2024.2.0)\r\n",
      "Requirement already satisfied: tbb==2022.* in /usr/local/lib/python3.11/dist-packages (from mkl->numpy>=1.17->transformers) (2022.1.0)\r\n",
      "Requirement already satisfied: tcmlib==1.* in /usr/local/lib/python3.11/dist-packages (from tbb==2022.*->mkl->numpy>=1.17->transformers) (1.3.0)\r\n",
      "Requirement already satisfied: intel-cmplr-lib-rt in /usr/local/lib/python3.11/dist-packages (from mkl_umath->numpy>=1.17->transformers) (2024.2.0)\r\n",
      "Requirement already satisfied: intel-cmplr-lib-ur==2024.2.0 in /usr/local/lib/python3.11/dist-packages (from intel-openmp<2026,>=2024->mkl->numpy>=1.17->transformers) (2024.2.0)\r\n",
      "Collecting biopython\r\n",
      "  Downloading biopython-1.85-cp311-cp311-manylinux_2_17_x86_64.manylinux2014_x86_64.whl.metadata (13 kB)\r\n",
      "Requirement already satisfied: numpy in /usr/local/lib/python3.11/dist-packages (from biopython) (1.26.4)\r\n",
      "Requirement already satisfied: mkl_fft in /usr/local/lib/python3.11/dist-packages (from numpy->biopython) (1.3.8)\r\n",
      "Requirement already satisfied: mkl_random in /usr/local/lib/python3.11/dist-packages (from numpy->biopython) (1.2.4)\r\n",
      "Requirement already satisfied: mkl_umath in /usr/local/lib/python3.11/dist-packages (from numpy->biopython) (0.1.1)\r\n",
      "Requirement already satisfied: mkl in /usr/local/lib/python3.11/dist-packages (from numpy->biopython) (2025.1.0)\r\n",
      "Requirement already satisfied: tbb4py in /usr/local/lib/python3.11/dist-packages (from numpy->biopython) (2022.1.0)\r\n",
      "Requirement already satisfied: mkl-service in /usr/local/lib/python3.11/dist-packages (from numpy->biopython) (2.4.1)\r\n",
      "Requirement already satisfied: intel-openmp<2026,>=2024 in /usr/local/lib/python3.11/dist-packages (from mkl->numpy->biopython) (2024.2.0)\r\n",
      "Requirement already satisfied: tbb==2022.* in /usr/local/lib/python3.11/dist-packages (from mkl->numpy->biopython) (2022.1.0)\r\n",
      "Requirement already satisfied: tcmlib==1.* in /usr/local/lib/python3.11/dist-packages (from tbb==2022.*->mkl->numpy->biopython) (1.3.0)\r\n",
      "Requirement already satisfied: intel-cmplr-lib-rt in /usr/local/lib/python3.11/dist-packages (from mkl_umath->numpy->biopython) (2024.2.0)\r\n",
      "Requirement already satisfied: intel-cmplr-lib-ur==2024.2.0 in /usr/local/lib/python3.11/dist-packages (from intel-openmp<2026,>=2024->mkl->numpy->biopython) (2024.2.0)\r\n",
      "Downloading biopython-1.85-cp311-cp311-manylinux_2_17_x86_64.manylinux2014_x86_64.whl (3.3 MB)\r\n",
      "\u001b[2K   \u001b[90m━━━━━━━━━━━━━━━━━━━━━━━━━━━━━━━━━━━━━━━━\u001b[0m \u001b[32m3.3/3.3 MB\u001b[0m \u001b[31m58.0 MB/s\u001b[0m eta \u001b[36m0:00:00\u001b[0m\r\n",
      "\u001b[?25hInstalling collected packages: biopython\r\n",
      "Successfully installed biopython-1.85\r\n"
     ]
    }
   ],
   "source": [
    "!pip install transformers\n",
    "!pip install biopython"
   ]
  },
  {
   "cell_type": "code",
   "execution_count": 2,
   "id": "a524cd09",
   "metadata": {
    "execution": {
     "iopub.execute_input": "2025-06-17T22:47:18.651189Z",
     "iopub.status.busy": "2025-06-17T22:47:18.650916Z",
     "iopub.status.idle": "2025-06-17T22:47:50.567753Z",
     "shell.execute_reply": "2025-06-17T22:47:50.566930Z"
    },
    "id": "g5t01MsSg12t",
    "papermill": {
     "duration": 31.922447,
     "end_time": "2025-06-17T22:47:50.569390",
     "exception": false,
     "start_time": "2025-06-17T22:47:18.646943",
     "status": "completed"
    },
    "tags": []
   },
   "outputs": [
    {
     "name": "stderr",
     "output_type": "stream",
     "text": [
      "2025-06-17 22:47:36.750661: E external/local_xla/xla/stream_executor/cuda/cuda_fft.cc:477] Unable to register cuFFT factory: Attempting to register factory for plugin cuFFT when one has already been registered\n",
      "WARNING: All log messages before absl::InitializeLog() is called are written to STDERR\n",
      "E0000 00:00:1750200456.983267      19 cuda_dnn.cc:8310] Unable to register cuDNN factory: Attempting to register factory for plugin cuDNN when one has already been registered\n",
      "E0000 00:00:1750200457.051223      19 cuda_blas.cc:1418] Unable to register cuBLAS factory: Attempting to register factory for plugin cuBLAS when one has already been registered\n"
     ]
    }
   ],
   "source": [
    "import torch\n",
    "from torch import nn\n",
    "import transformers\n",
    "from transformers import BertTokenizer, BertForTokenClassification\n",
    "import numpy as np\n",
    "from Bio import SeqIO\n",
    "from io import StringIO, BytesIO\n",
    "# from google.colab import drive, files\n",
    "from tqdm import tqdm\n",
    "import pickle\n",
    "import scipy\n",
    "from scipy import ndimage"
   ]
  },
  {
   "cell_type": "code",
   "execution_count": 3,
   "id": "9cd693ce",
   "metadata": {
    "execution": {
     "iopub.execute_input": "2025-06-17T22:47:50.576472Z",
     "iopub.status.busy": "2025-06-17T22:47:50.575956Z",
     "iopub.status.idle": "2025-06-17T22:47:50.581771Z",
     "shell.execute_reply": "2025-06-17T22:47:50.580993Z"
    },
    "id": "2fcVMWUPg4eF",
    "papermill": {
     "duration": 0.010415,
     "end_time": "2025-06-17T22:47:50.582904",
     "exception": false,
     "start_time": "2025-06-17T22:47:50.572489",
     "status": "completed"
    },
    "tags": []
   },
   "outputs": [],
   "source": [
    "def seq2kmer(seq, k):\n",
    "    kmer = [seq[x:x+k] for x in range(len(seq)+1-k)]\n",
    "    return kmer\n",
    "\n",
    "def split_seq(seq, length = 512, pad = 16):\n",
    "    res = []\n",
    "    for st in range(0, len(seq), length - pad):\n",
    "        end = min(st+512, len(seq))\n",
    "        res.append(seq[st:end])\n",
    "    return res\n",
    "\n",
    "def stitch_np_seq(np_seqs, pad = 16):\n",
    "    res = np.array([])\n",
    "    for seq in np_seqs:\n",
    "        res = res[:-pad]\n",
    "        res = np.concatenate([res,seq])\n",
    "    return res"
   ]
  },
  {
   "cell_type": "code",
   "execution_count": 4,
   "id": "a1da3c9e",
   "metadata": {
    "execution": {
     "iopub.execute_input": "2025-06-17T22:47:50.589064Z",
     "iopub.status.busy": "2025-06-17T22:47:50.588845Z",
     "iopub.status.idle": "2025-06-17T22:47:50.592368Z",
     "shell.execute_reply": "2025-06-17T22:47:50.591633Z"
    },
    "id": "axa7ja4Ug7AJ",
    "papermill": {
     "duration": 0.007904,
     "end_time": "2025-06-17T22:47:50.593520",
     "exception": false,
     "start_time": "2025-06-17T22:47:50.585616",
     "status": "completed"
    },
    "tags": []
   },
   "outputs": [],
   "source": [
    "model = 'HG kouzine' #@param [\"HG chipseq\", \"HG kouzine\", \"MM chipseq\", \"MM kouzine\"]\n",
    "model_confidence_threshold = 0.5 #@param {type:\"number\"}\n",
    "minimum_sequence_length = 10 #@param {type:\"integer\"}"
   ]
  },
  {
   "cell_type": "code",
   "execution_count": 5,
   "id": "0a67bd01",
   "metadata": {
    "execution": {
     "iopub.execute_input": "2025-06-17T22:47:50.599887Z",
     "iopub.status.busy": "2025-06-17T22:47:50.599519Z",
     "iopub.status.idle": "2025-06-17T22:47:50.603362Z",
     "shell.execute_reply": "2025-06-17T22:47:50.602592Z"
    },
    "id": "QfWV71yKj4lz",
    "papermill": {
     "duration": 0.008364,
     "end_time": "2025-06-17T22:47:50.604574",
     "exception": false,
     "start_time": "2025-06-17T22:47:50.596210",
     "status": "completed"
    },
    "tags": []
   },
   "outputs": [],
   "source": [
    "if model == 'HG chipseq':\n",
    "    model_id = '1VAsp8I904y_J0PUhAQqpSlCn1IqfG0FB'\n",
    "elif model == 'HG kouzine':\n",
    "    model_id = '1dAeAt5Gu2cadwDhbc7OnenUgDLHlUvkx'\n",
    "elif model == 'MM curax':\n",
    "    model_id = '1W6GEgHNoitlB-xXJbLJ_jDW4BF35W1Sd'\n",
    "elif model == 'MM kouzine':\n",
    "    model_id = '1dXpQFmheClKXIEoqcZ7kgCwx6hzVCv3H'"
   ]
  },
  {
   "cell_type": "code",
   "execution_count": 6,
   "id": "8498d5e6",
   "metadata": {
    "execution": {
     "iopub.execute_input": "2025-06-17T22:47:50.610709Z",
     "iopub.status.busy": "2025-06-17T22:47:50.610506Z",
     "iopub.status.idle": "2025-06-17T22:48:04.326604Z",
     "shell.execute_reply": "2025-06-17T22:48:04.325490Z"
    },
    "id": "bzx9z9ENj5Jh",
    "outputId": "3eec2b51-59b3-4091-ac9f-424ff7525962",
    "papermill": {
     "duration": 13.720705,
     "end_time": "2025-06-17T22:48:04.328019",
     "exception": false,
     "start_time": "2025-06-17T22:47:50.607314",
     "status": "completed"
    },
    "tags": []
   },
   "outputs": [
    {
     "name": "stdout",
     "output_type": "stream",
     "text": [
      "Downloading...\r\n",
      "From (original): https://drive.google.com/uc?id=1dAeAt5Gu2cadwDhbc7OnenUgDLHlUvkx\r\n",
      "From (redirected): https://drive.google.com/uc?id=1dAeAt5Gu2cadwDhbc7OnenUgDLHlUvkx&confirm=t&uuid=1e23f2ee-9031-4021-9e76-97fbf3702cb1\r\n",
      "To: /kaggle/working/pytorch_model.bin\r\n",
      "100%|█████████████████████████████████████████| 354M/354M [00:01<00:00, 308MB/s]\r\n",
      "Downloading...\r\n",
      "From: https://drive.google.com/uc?id=10sF8Ywktd96HqAL0CwvlZZUUGj05CGk5\r\n",
      "To: /kaggle/working/config.json\r\n",
      "100%|██████████████████████████████████████████| 634/634 [00:00<00:00, 3.55MB/s]\r\n",
      "Downloading...\r\n",
      "From: https://drive.google.com/uc?id=16bT7HDv71aRwyh3gBUbKwign1mtyLD2d\r\n",
      "To: /kaggle/working/special_tokens_map.json\r\n",
      "100%|███████████████████████████████████████████| 112/112 [00:00<00:00, 491kB/s]\r\n",
      "Downloading...\r\n",
      "From: https://drive.google.com/uc?id=1EE9goZ2JRSD8UTx501q71lGCk-CK3kqG\r\n",
      "To: /kaggle/working/tokenizer_config.json\r\n",
      "100%|█████████████████████████████████████████| 40.0/40.0 [00:00<00:00, 207kB/s]\r\n",
      "Downloading...\r\n",
      "From: https://drive.google.com/uc?id=1gZZdtAoDnDiLQqjQfGyuwt268Pe5sXW0\r\n",
      "To: /kaggle/working/vocab.txt\r\n",
      "100%|██████████████████████████████████████| 28.7k/28.7k [00:00<00:00, 52.0MB/s]\r\n"
     ]
    }
   ],
   "source": [
    "!gdown $model_id\n",
    "!gdown 10sF8Ywktd96HqAL0CwvlZZUUGj05CGk5\n",
    "!gdown 16bT7HDv71aRwyh3gBUbKwign1mtyLD2d\n",
    "!gdown 1EE9goZ2JRSD8UTx501q71lGCk-CK3kqG\n",
    "!gdown 1gZZdtAoDnDiLQqjQfGyuwt268Pe5sXW0\n",
    "\n",
    "\n",
    "!mkdir 6-new-12w-0\n",
    "!mv pytorch_model.bin 6-new-12w-0/\n",
    "!mv config.json 6-new-12w-0/\n",
    "!mv special_tokens_map.json 6-new-12w-0/\n",
    "!mv tokenizer_config.json 6-new-12w-0/\n",
    "!mv vocab.txt 6-new-12w-0/"
   ]
  },
  {
   "cell_type": "code",
   "execution_count": 7,
   "id": "eabfb962",
   "metadata": {
    "execution": {
     "iopub.execute_input": "2025-06-17T22:48:04.337241Z",
     "iopub.status.busy": "2025-06-17T22:48:04.336804Z",
     "iopub.status.idle": "2025-06-17T22:48:04.979198Z",
     "shell.execute_reply": "2025-06-17T22:48:04.978483Z"
    },
    "id": "bUKpxUfzkCuo",
    "outputId": "9cb1fe4b-f18c-4a7d-8064-e070c31925df",
    "papermill": {
     "duration": 0.648276,
     "end_time": "2025-06-17T22:48:04.980296",
     "exception": false,
     "start_time": "2025-06-17T22:48:04.332020",
     "status": "completed"
    },
    "tags": []
   },
   "outputs": [
    {
     "data": {
      "text/plain": [
       "BertForTokenClassification(\n",
       "  (bert): BertModel(\n",
       "    (embeddings): BertEmbeddings(\n",
       "      (word_embeddings): Embedding(4101, 768, padding_idx=0)\n",
       "      (position_embeddings): Embedding(512, 768)\n",
       "      (token_type_embeddings): Embedding(2, 768)\n",
       "      (LayerNorm): LayerNorm((768,), eps=1e-12, elementwise_affine=True)\n",
       "      (dropout): Dropout(p=0.1, inplace=False)\n",
       "    )\n",
       "    (encoder): BertEncoder(\n",
       "      (layer): ModuleList(\n",
       "        (0-11): 12 x BertLayer(\n",
       "          (attention): BertAttention(\n",
       "            (self): BertSdpaSelfAttention(\n",
       "              (query): Linear(in_features=768, out_features=768, bias=True)\n",
       "              (key): Linear(in_features=768, out_features=768, bias=True)\n",
       "              (value): Linear(in_features=768, out_features=768, bias=True)\n",
       "              (dropout): Dropout(p=0.1, inplace=False)\n",
       "            )\n",
       "            (output): BertSelfOutput(\n",
       "              (dense): Linear(in_features=768, out_features=768, bias=True)\n",
       "              (LayerNorm): LayerNorm((768,), eps=1e-12, elementwise_affine=True)\n",
       "              (dropout): Dropout(p=0.1, inplace=False)\n",
       "            )\n",
       "          )\n",
       "          (intermediate): BertIntermediate(\n",
       "            (dense): Linear(in_features=768, out_features=3072, bias=True)\n",
       "            (intermediate_act_fn): GELUActivation()\n",
       "          )\n",
       "          (output): BertOutput(\n",
       "            (dense): Linear(in_features=3072, out_features=768, bias=True)\n",
       "            (LayerNorm): LayerNorm((768,), eps=1e-12, elementwise_affine=True)\n",
       "            (dropout): Dropout(p=0.1, inplace=False)\n",
       "          )\n",
       "        )\n",
       "      )\n",
       "    )\n",
       "  )\n",
       "  (dropout): Dropout(p=0.1, inplace=False)\n",
       "  (classifier): Linear(in_features=768, out_features=2, bias=True)\n",
       ")"
      ]
     },
     "execution_count": 7,
     "metadata": {},
     "output_type": "execute_result"
    }
   ],
   "source": [
    "tokenizer = BertTokenizer.from_pretrained('6-new-12w-0/')\n",
    "model = BertForTokenClassification.from_pretrained('6-new-12w-0/')\n",
    "device = 'cuda' if torch.cuda.is_available() else 'cpu'\n",
    "model.to(device)"
   ]
  },
  {
   "cell_type": "code",
   "execution_count": 8,
   "id": "d1cd29c7",
   "metadata": {
    "execution": {
     "iopub.execute_input": "2025-06-17T22:48:04.988974Z",
     "iopub.status.busy": "2025-06-17T22:48:04.988743Z",
     "iopub.status.idle": "2025-06-17T22:48:52.456935Z",
     "shell.execute_reply": "2025-06-17T22:48:52.455996Z"
    },
    "id": "cH3Gaet8lHIC",
    "outputId": "c09bec20-fd02-4957-f2fc-7b01c60287d5",
    "papermill": {
     "duration": 47.474075,
     "end_time": "2025-06-17T22:48:52.458442",
     "exception": false,
     "start_time": "2025-06-17T22:48:04.984367",
     "status": "completed"
    },
    "tags": []
   },
   "outputs": [
    {
     "name": "stdout",
     "output_type": "stream",
     "text": [
      "--2025-06-17 22:48:05--  https://ftp.ncbi.nlm.nih.gov/genomes/all/GCF/022/581/195/GCF_022581195.2_ilHelZeax1.1/GCF_022581195.2_ilHelZeax1.1_genomic.fna.gz\r\n",
      "Resolving ftp.ncbi.nlm.nih.gov (ftp.ncbi.nlm.nih.gov)... 130.14.250.12, 130.14.250.31, 130.14.250.10, ...\r\n",
      "Connecting to ftp.ncbi.nlm.nih.gov (ftp.ncbi.nlm.nih.gov)|130.14.250.12|:443... connected.\r\n",
      "HTTP request sent, awaiting response... 200 OK\r\n",
      "Length: 120848234 (115M) [application/x-gzip]\r\n",
      "Saving to: ‘GCF_022581195.2_ilHelZeax1.1_genomic.fna.gz’\r\n",
      "\r\n",
      "GCF_022581195.2_ilH 100%[===================>] 115.25M  3.29MB/s    in 44s     \r\n",
      "\r\n",
      "2025-06-17 22:48:49 (2.63 MB/s) - ‘GCF_022581195.2_ilHelZeax1.1_genomic.fna.gz’ saved [120848234/120848234]\r\n",
      "\r\n"
     ]
    }
   ],
   "source": [
    "!wget https://ftp.ncbi.nlm.nih.gov/genomes/all/GCF/022/581/195/GCF_022581195.2_ilHelZeax1.1/GCF_022581195.2_ilHelZeax1.1_genomic.fna.gz\n",
    "!gunzip ./GCF_022581195.2_ilHelZeax1.1_genomic.fna.gz\n",
    "!mv GCF_022581195.2_ilHelZeax1.1_genomic.fna genomic.fna"
   ]
  },
  {
   "cell_type": "code",
   "execution_count": 9,
   "id": "dc27794f",
   "metadata": {
    "execution": {
     "iopub.execute_input": "2025-06-17T22:48:52.476322Z",
     "iopub.status.busy": "2025-06-17T22:48:52.476038Z",
     "iopub.status.idle": "2025-06-17T22:48:52.716254Z",
     "shell.execute_reply": "2025-06-17T22:48:52.715380Z"
    },
    "id": "Vo6LqVk9kGLT",
    "papermill": {
     "duration": 0.250846,
     "end_time": "2025-06-17T22:48:52.717740",
     "exception": false,
     "start_time": "2025-06-17T22:48:52.466894",
     "status": "completed"
    },
    "tags": []
   },
   "outputs": [],
   "source": [
    "with open('genomic.fna', 'rb') as f:\n",
    "    uploaded={'genomic': f.read()}"
   ]
  },
  {
   "cell_type": "code",
   "execution_count": 10,
   "id": "969adfcb",
   "metadata": {
    "execution": {
     "iopub.execute_input": "2025-06-17T22:48:52.735096Z",
     "iopub.status.busy": "2025-06-17T22:48:52.734839Z",
     "iopub.status.idle": "2025-06-18T07:45:35.461588Z",
     "shell.execute_reply": "2025-06-18T07:45:35.460861Z"
    },
    "id": "Ot2wN9vykQ5i",
    "outputId": "30926c69-1cba-493b-89d7-785d28bbe8b3",
    "papermill": {
     "duration": 32209.858195,
     "end_time": "2025-06-18T07:45:42.584000",
     "exception": false,
     "start_time": "2025-06-17T22:48:52.725805",
     "status": "completed"
    },
    "tags": []
   },
   "outputs": [
    {
     "name": "stdout",
     "output_type": "stream",
     "text": [
      "genomic\n",
      "NC_061452.1\n"
     ]
    },
    {
     "name": "stderr",
     "output_type": "stream",
     "text": [
      "100%|██████████| 31275/31275 [12:56<00:00, 40.26it/s]\n"
     ]
    },
    {
     "name": "stdout",
     "output_type": "stream",
     "text": [
      "NC_061453.1\n"
     ]
    },
    {
     "name": "stderr",
     "output_type": "stream",
     "text": [
      "100%|██████████| 30367/30367 [12:33<00:00, 40.30it/s]\n"
     ]
    },
    {
     "name": "stdout",
     "output_type": "stream",
     "text": [
      "NC_061454.1\n"
     ]
    },
    {
     "name": "stderr",
     "output_type": "stream",
     "text": [
      "100%|██████████| 29628/29628 [12:16<00:00, 40.25it/s]\n"
     ]
    },
    {
     "name": "stdout",
     "output_type": "stream",
     "text": [
      "NC_061455.1\n"
     ]
    },
    {
     "name": "stderr",
     "output_type": "stream",
     "text": [
      "100%|██████████| 28560/28560 [11:45<00:00, 40.48it/s]\n"
     ]
    },
    {
     "name": "stdout",
     "output_type": "stream",
     "text": [
      "NC_061456.1\n"
     ]
    },
    {
     "name": "stderr",
     "output_type": "stream",
     "text": [
      "100%|██████████| 28330/28330 [11:38<00:00, 40.56it/s]\n"
     ]
    },
    {
     "name": "stdout",
     "output_type": "stream",
     "text": [
      "NC_061457.1\n"
     ]
    },
    {
     "name": "stderr",
     "output_type": "stream",
     "text": [
      "100%|██████████| 28273/28273 [11:37<00:00, 40.52it/s]\n"
     ]
    },
    {
     "name": "stdout",
     "output_type": "stream",
     "text": [
      "NC_061458.1\n"
     ]
    },
    {
     "name": "stderr",
     "output_type": "stream",
     "text": [
      "100%|██████████| 27520/27520 [11:20<00:00, 40.41it/s]\n"
     ]
    },
    {
     "name": "stdout",
     "output_type": "stream",
     "text": [
      "NC_061459.1\n"
     ]
    },
    {
     "name": "stderr",
     "output_type": "stream",
     "text": [
      "100%|██████████| 27519/27519 [11:25<00:00, 40.14it/s]\n"
     ]
    },
    {
     "name": "stdout",
     "output_type": "stream",
     "text": [
      "NC_061460.1\n"
     ]
    },
    {
     "name": "stderr",
     "output_type": "stream",
     "text": [
      "100%|██████████| 27451/27451 [11:21<00:00, 40.26it/s]\n"
     ]
    },
    {
     "name": "stdout",
     "output_type": "stream",
     "text": [
      "NC_061461.1\n"
     ]
    },
    {
     "name": "stderr",
     "output_type": "stream",
     "text": [
      "100%|██████████| 26731/26731 [11:05<00:00, 40.17it/s]\n"
     ]
    },
    {
     "name": "stdout",
     "output_type": "stream",
     "text": [
      "NC_061462.1\n"
     ]
    },
    {
     "name": "stderr",
     "output_type": "stream",
     "text": [
      "100%|██████████| 26389/26389 [10:54<00:00, 40.34it/s]\n"
     ]
    },
    {
     "name": "stdout",
     "output_type": "stream",
     "text": [
      "NC_061463.1\n"
     ]
    },
    {
     "name": "stderr",
     "output_type": "stream",
     "text": [
      "100%|██████████| 26155/26155 [10:48<00:00, 40.31it/s]\n"
     ]
    },
    {
     "name": "stdout",
     "output_type": "stream",
     "text": [
      "NC_061464.1\n"
     ]
    },
    {
     "name": "stderr",
     "output_type": "stream",
     "text": [
      "100%|██████████| 25890/25890 [10:41<00:00, 40.35it/s]\n"
     ]
    },
    {
     "name": "stdout",
     "output_type": "stream",
     "text": [
      "NC_061465.1\n"
     ]
    },
    {
     "name": "stderr",
     "output_type": "stream",
     "text": [
      "100%|██████████| 25722/25722 [10:37<00:00, 40.33it/s]\n"
     ]
    },
    {
     "name": "stdout",
     "output_type": "stream",
     "text": [
      "NC_061466.1\n"
     ]
    },
    {
     "name": "stderr",
     "output_type": "stream",
     "text": [
      "100%|██████████| 25416/25416 [10:27<00:00, 40.49it/s]\n"
     ]
    },
    {
     "name": "stdout",
     "output_type": "stream",
     "text": [
      "NC_061467.1\n"
     ]
    },
    {
     "name": "stderr",
     "output_type": "stream",
     "text": [
      "100%|██████████| 24865/24865 [10:15<00:00, 40.40it/s]\n"
     ]
    },
    {
     "name": "stdout",
     "output_type": "stream",
     "text": [
      "NC_061468.1\n"
     ]
    },
    {
     "name": "stderr",
     "output_type": "stream",
     "text": [
      "100%|██████████| 24708/24708 [10:11<00:00, 40.43it/s]\n"
     ]
    },
    {
     "name": "stdout",
     "output_type": "stream",
     "text": [
      "NC_061469.1\n"
     ]
    },
    {
     "name": "stderr",
     "output_type": "stream",
     "text": [
      "100%|██████████| 24689/24689 [10:15<00:00, 40.09it/s]\n"
     ]
    },
    {
     "name": "stdout",
     "output_type": "stream",
     "text": [
      "NC_061470.1\n"
     ]
    },
    {
     "name": "stderr",
     "output_type": "stream",
     "text": [
      "100%|██████████| 23448/23448 [09:51<00:00, 39.62it/s]\n"
     ]
    },
    {
     "name": "stdout",
     "output_type": "stream",
     "text": [
      "NC_061471.1\n"
     ]
    },
    {
     "name": "stderr",
     "output_type": "stream",
     "text": [
      "100%|██████████| 23387/23387 [09:53<00:00, 39.42it/s]\n"
     ]
    },
    {
     "name": "stdout",
     "output_type": "stream",
     "text": [
      "NC_061472.1\n"
     ]
    },
    {
     "name": "stderr",
     "output_type": "stream",
     "text": [
      "100%|██████████| 23108/23108 [09:40<00:00, 39.81it/s]\n"
     ]
    },
    {
     "name": "stdout",
     "output_type": "stream",
     "text": [
      "NC_061473.1\n"
     ]
    },
    {
     "name": "stderr",
     "output_type": "stream",
     "text": [
      "100%|██████████| 21918/21918 [09:12<00:00, 39.68it/s]\n"
     ]
    },
    {
     "name": "stdout",
     "output_type": "stream",
     "text": [
      "NC_061474.1\n"
     ]
    },
    {
     "name": "stderr",
     "output_type": "stream",
     "text": [
      "100%|██████████| 21013/21013 [08:50<00:00, 39.64it/s]\n"
     ]
    },
    {
     "name": "stdout",
     "output_type": "stream",
     "text": [
      "NC_061475.1\n"
     ]
    },
    {
     "name": "stderr",
     "output_type": "stream",
     "text": [
      "100%|██████████| 19643/19643 [08:17<00:00, 39.49it/s]\n"
     ]
    },
    {
     "name": "stdout",
     "output_type": "stream",
     "text": [
      "NC_061476.1\n"
     ]
    },
    {
     "name": "stderr",
     "output_type": "stream",
     "text": [
      "100%|██████████| 18711/18711 [07:53<00:00, 39.49it/s]\n"
     ]
    },
    {
     "name": "stdout",
     "output_type": "stream",
     "text": [
      "NC_061477.1\n"
     ]
    },
    {
     "name": "stderr",
     "output_type": "stream",
     "text": [
      "100%|██████████| 18707/18707 [07:52<00:00, 39.60it/s]\n"
     ]
    },
    {
     "name": "stdout",
     "output_type": "stream",
     "text": [
      "NC_061478.1\n"
     ]
    },
    {
     "name": "stderr",
     "output_type": "stream",
     "text": [
      "100%|██████████| 14829/14829 [06:15<00:00, 39.48it/s]\n"
     ]
    },
    {
     "name": "stdout",
     "output_type": "stream",
     "text": [
      "NC_061479.1\n"
     ]
    },
    {
     "name": "stderr",
     "output_type": "stream",
     "text": [
      "100%|██████████| 14540/14540 [06:08<00:00, 39.47it/s]\n"
     ]
    },
    {
     "name": "stdout",
     "output_type": "stream",
     "text": [
      "NC_061480.1\n"
     ]
    },
    {
     "name": "stderr",
     "output_type": "stream",
     "text": [
      "100%|██████████| 14524/14524 [06:08<00:00, 39.46it/s]\n"
     ]
    },
    {
     "name": "stdout",
     "output_type": "stream",
     "text": [
      "NC_061481.1\n"
     ]
    },
    {
     "name": "stderr",
     "output_type": "stream",
     "text": [
      "100%|██████████| 12736/12736 [05:21<00:00, 39.65it/s]\n"
     ]
    },
    {
     "name": "stdout",
     "output_type": "stream",
     "text": [
      "NC_061482.1\n"
     ]
    },
    {
     "name": "stderr",
     "output_type": "stream",
     "text": [
      "100%|██████████| 37914/37914 [15:50<00:00, 39.89it/s]\n"
     ]
    },
    {
     "name": "stdout",
     "output_type": "stream",
     "text": [
      "NW_025899711.1\n"
     ]
    },
    {
     "name": "stderr",
     "output_type": "stream",
     "text": [
      "100%|██████████| 1009/1009 [00:25<00:00, 39.70it/s]\n"
     ]
    },
    {
     "name": "stdout",
     "output_type": "stream",
     "text": [
      "NW_025899712.1\n"
     ]
    },
    {
     "name": "stderr",
     "output_type": "stream",
     "text": [
      "100%|██████████| 505/505 [00:12<00:00, 39.90it/s]\n"
     ]
    },
    {
     "name": "stdout",
     "output_type": "stream",
     "text": [
      "NW_025899713.1\n"
     ]
    },
    {
     "name": "stderr",
     "output_type": "stream",
     "text": [
      "100%|██████████| 253/253 [00:06<00:00, 39.97it/s]\n"
     ]
    },
    {
     "name": "stdout",
     "output_type": "stream",
     "text": [
      "NW_025899714.1\n"
     ]
    },
    {
     "name": "stderr",
     "output_type": "stream",
     "text": [
      "100%|██████████| 178/178 [00:04<00:00, 39.90it/s]\n"
     ]
    },
    {
     "name": "stdout",
     "output_type": "stream",
     "text": [
      "NW_025899715.1\n"
     ]
    },
    {
     "name": "stderr",
     "output_type": "stream",
     "text": [
      "100%|██████████| 105/105 [00:02<00:00, 40.04it/s]\n"
     ]
    },
    {
     "name": "stdout",
     "output_type": "stream",
     "text": [
      "NW_025899716.1\n"
     ]
    },
    {
     "name": "stderr",
     "output_type": "stream",
     "text": [
      "100%|██████████| 96/96 [00:02<00:00, 39.91it/s]\n"
     ]
    },
    {
     "name": "stdout",
     "output_type": "stream",
     "text": [
      "NW_025899717.1\n"
     ]
    },
    {
     "name": "stderr",
     "output_type": "stream",
     "text": [
      "100%|██████████| 86/86 [00:02<00:00, 40.36it/s]\n"
     ]
    },
    {
     "name": "stdout",
     "output_type": "stream",
     "text": [
      "NW_025899718.1\n"
     ]
    },
    {
     "name": "stderr",
     "output_type": "stream",
     "text": [
      "100%|██████████| 71/71 [00:01<00:00, 40.29it/s]\n"
     ]
    },
    {
     "name": "stdout",
     "output_type": "stream",
     "text": [
      "NW_025899719.1\n"
     ]
    },
    {
     "name": "stderr",
     "output_type": "stream",
     "text": [
      "100%|██████████| 51/51 [00:01<00:00, 40.23it/s]\n"
     ]
    },
    {
     "name": "stdout",
     "output_type": "stream",
     "text": [
      "NW_025899720.1\n"
     ]
    },
    {
     "name": "stderr",
     "output_type": "stream",
     "text": [
      "100%|██████████| 43/43 [00:01<00:00, 39.95it/s]\n"
     ]
    },
    {
     "name": "stdout",
     "output_type": "stream",
     "text": [
      "NW_025899721.1\n"
     ]
    },
    {
     "name": "stderr",
     "output_type": "stream",
     "text": [
      "100%|██████████| 41/41 [00:01<00:00, 39.96it/s]\n"
     ]
    },
    {
     "name": "stdout",
     "output_type": "stream",
     "text": [
      "NC_061507.1\n"
     ]
    },
    {
     "name": "stderr",
     "output_type": "stream",
     "text": [
      "100%|██████████| 31/31 [00:00<00:00, 39.87it/s]\n"
     ]
    },
    {
     "name": "stdout",
     "output_type": "stream",
     "text": [
      "\n"
     ]
    }
   ],
   "source": [
    "out = []\n",
    "for key in uploaded.keys():\n",
    "    print(key)\n",
    "    out.append(key)\n",
    "    result_dict = {}\n",
    "    for seq_record in SeqIO.parse(StringIO(BytesIO(uploaded[key]).read().decode('UTF-8')), 'fasta'):\n",
    "        kmer_seq = seq2kmer(str(seq_record.seq).upper(), 6)\n",
    "        seq_pieces = split_seq(kmer_seq)\n",
    "        print(seq_record.name)\n",
    "        out.append(seq_record.name)\n",
    "        with torch.no_grad():\n",
    "            preds = []\n",
    "            for seq_piece in tqdm(seq_pieces):\n",
    "                input_ids = torch.LongTensor(tokenizer.encode(' '.join(seq_piece), add_special_tokens=False))\n",
    "                outputs = torch.softmax(model(input_ids.cuda().unsqueeze(0))[-1],axis = -1)[0,:,1]\n",
    "                preds.append(outputs.cpu().numpy())\n",
    "        result_dict[seq_record.name] = stitch_np_seq(preds)\n",
    "\n",
    "\n",
    "\n",
    "        labeled, max_label = scipy.ndimage.label(result_dict[seq_record.name]>model_confidence_threshold)\n",
    "        # print('  start     end')\n",
    "        out.append('  start     end')\n",
    "        for label in range(1, max_label+1):\n",
    "            candidate = np.where(labeled == label)[0]\n",
    "            candidate_length = candidate.shape[0]\n",
    "            if candidate_length>minimum_sequence_length:\n",
    "                # print('{:8}'.format(candidate[0]), '{:8}'.format(candidate[-1]))\n",
    "                out.append('{:8}'.format(candidate[0]) + '{:8}'.format(candidate[-1]))\n",
    "\n",
    "    with open(key + '.preds.pkl',\"wb\") as fh:\n",
    "      pickle.dump(result_dict, fh)\n",
    "    print()\n",
    "\n",
    "with open('text_predictions.txt',\"w\") as fh:\n",
    "    for item in out:\n",
    "        fh.write(\"%s\\n\" % item)\n"
   ]
  },
  {
   "cell_type": "code",
   "execution_count": 3,
   "id": "7d264471",
   "metadata": {
    "execution": {
     "iopub.execute_input": "2025-06-18T07:46:09.868881Z",
     "iopub.status.busy": "2025-06-18T07:46:09.868308Z",
     "iopub.status.idle": "2025-06-18T07:46:10.093446Z",
     "shell.execute_reply": "2025-06-18T07:46:10.092544Z"
    },
    "id": "gQGFPnLonVk1",
    "papermill": {
     "duration": 7.035915,
     "end_time": "2025-06-18T07:46:10.094502",
     "exception": true,
     "start_time": "2025-06-18T07:46:03.058587",
     "status": "failed"
    },
    "tags": []
   },
   "outputs": [
    {
     "name": "stderr",
     "output_type": "stream",
     "text": [
      "100%|██████████| 95741/95741 [01:44<00:00, 920.29it/s] \n"
     ]
    },
    {
     "data": {
      "text/html": [
       "<div>\n",
       "<style scoped>\n",
       "    .dataframe tbody tr th:only-of-type {\n",
       "        vertical-align: middle;\n",
       "    }\n",
       "\n",
       "    .dataframe tbody tr th {\n",
       "        vertical-align: top;\n",
       "    }\n",
       "\n",
       "    .dataframe thead th {\n",
       "        text-align: right;\n",
       "    }\n",
       "</style>\n",
       "<table border=\"1\" class=\"dataframe\">\n",
       "  <thead>\n",
       "    <tr style=\"text-align: right;\">\n",
       "      <th></th>\n",
       "      <th>Scaffold</th>\n",
       "      <th>Start</th>\n",
       "      <th>End</th>\n",
       "    </tr>\n",
       "  </thead>\n",
       "  <tbody>\n",
       "    <tr>\n",
       "      <th>0</th>\n",
       "      <td>NC_061452.1</td>\n",
       "      <td>3522</td>\n",
       "      <td>3533</td>\n",
       "    </tr>\n",
       "    <tr>\n",
       "      <th>1</th>\n",
       "      <td>NC_061452.1</td>\n",
       "      <td>9959</td>\n",
       "      <td>9973</td>\n",
       "    </tr>\n",
       "    <tr>\n",
       "      <th>2</th>\n",
       "      <td>NC_061452.1</td>\n",
       "      <td>10574</td>\n",
       "      <td>10589</td>\n",
       "    </tr>\n",
       "    <tr>\n",
       "      <th>3</th>\n",
       "      <td>NC_061452.1</td>\n",
       "      <td>13191</td>\n",
       "      <td>13203</td>\n",
       "    </tr>\n",
       "    <tr>\n",
       "      <th>4</th>\n",
       "      <td>NC_061452.1</td>\n",
       "      <td>14194</td>\n",
       "      <td>14210</td>\n",
       "    </tr>\n",
       "    <tr>\n",
       "      <th>...</th>\n",
       "      <td>...</td>\n",
       "      <td>...</td>\n",
       "      <td>...</td>\n",
       "    </tr>\n",
       "    <tr>\n",
       "      <th>95649</th>\n",
       "      <td>NW_025899721.1</td>\n",
       "      <td>7881</td>\n",
       "      <td>7896</td>\n",
       "    </tr>\n",
       "    <tr>\n",
       "      <th>95650</th>\n",
       "      <td>NW_025899721.1</td>\n",
       "      <td>8802</td>\n",
       "      <td>8836</td>\n",
       "    </tr>\n",
       "    <tr>\n",
       "      <th>95651</th>\n",
       "      <td>NW_025899721.1</td>\n",
       "      <td>8942</td>\n",
       "      <td>8962</td>\n",
       "    </tr>\n",
       "    <tr>\n",
       "      <th>95652</th>\n",
       "      <td>NW_025899721.1</td>\n",
       "      <td>12896</td>\n",
       "      <td>12906</td>\n",
       "    </tr>\n",
       "    <tr>\n",
       "      <th>95653</th>\n",
       "      <td>NW_025899721.1</td>\n",
       "      <td>14473</td>\n",
       "      <td>14486</td>\n",
       "    </tr>\n",
       "  </tbody>\n",
       "</table>\n",
       "<p>95654 rows × 3 columns</p>\n",
       "</div>"
      ],
      "text/plain": [
       "             Scaffold  Start    End\n",
       "0         NC_061452.1   3522   3533\n",
       "1         NC_061452.1   9959   9973\n",
       "2         NC_061452.1  10574  10589\n",
       "3         NC_061452.1  13191  13203\n",
       "4         NC_061452.1  14194  14210\n",
       "...               ...    ...    ...\n",
       "95649  NW_025899721.1   7881   7896\n",
       "95650  NW_025899721.1   8802   8836\n",
       "95651  NW_025899721.1   8942   8962\n",
       "95652  NW_025899721.1  12896  12906\n",
       "95653  NW_025899721.1  14473  14486\n",
       "\n",
       "[95654 rows x 3 columns]"
      ]
     },
     "execution_count": 3,
     "metadata": {},
     "output_type": "execute_result"
    }
   ],
   "source": [
    "import pandas as pd\n",
    "from tqdm import tqdm\n",
    "\n",
    "results = pd.DataFrame(columns=['Scaffold', 'Start', 'End'])\n",
    "\n",
    "with open('text_predictions.txt', 'r') as f:\n",
    "    scaffold = ''\n",
    "    lines = f.readlines()\n",
    "    for line in tqdm(lines):\n",
    "        if line == 'genomic\\n':\n",
    "            continue\n",
    "        if line.startswith('NW') or line.startswith('NC'):\n",
    "            scaffold = line[:-1]\n",
    "            continue\n",
    "        if line.split()[0] == 'start':\n",
    "            continue\n",
    "        if len(line.split()) < 2:\n",
    "            start = int(line.split()[0][0:8])\n",
    "            end = int(line.split()[0][8:16])\n",
    "        else:\n",
    "            start, end = int(line.split()[0]), int(line.split()[1])\n",
    "        results.loc[len(results)] = [scaffold, start, end]\n",
    "\n",
    "results"
   ]
  },
  {
   "cell_type": "code",
   "execution_count": 4,
   "id": "30484fd4",
   "metadata": {
    "id": "FdihQTlGnkJQ",
    "papermill": {
     "duration": null,
     "end_time": null,
     "exception": null,
     "start_time": null,
     "status": "pending"
    },
    "tags": []
   },
   "outputs": [],
   "source": [
    "results.to_csv('zdnabert_predictions.bed', index=False, header=False, sep='\\t')"
   ]
  }
 ],
 "metadata": {
  "accelerator": "GPU",
  "colab": {
   "gpuType": "T4",
   "provenance": []
  },
  "kaggle": {
   "accelerator": "gpu",
   "dataSources": [],
   "dockerImageVersionId": 31041,
   "isGpuEnabled": true,
   "isInternetEnabled": true,
   "language": "python",
   "sourceType": "notebook"
  },
  "kernelspec": {
   "display_name": "venv",
   "language": "python",
   "name": "python3"
  },
  "language_info": {
   "codemirror_mode": {
    "name": "ipython",
    "version": 3
   },
   "file_extension": ".py",
   "mimetype": "text/x-python",
   "name": "python",
   "nbconvert_exporter": "python",
   "pygments_lexer": "ipython3",
   "version": "3.13.2"
  },
  "papermill": {
   "default_parameters": {},
   "duration": 32354.920611,
   "end_time": "2025-06-18T07:46:20.335877",
   "environment_variables": {},
   "exception": true,
   "input_path": "__notebook__.ipynb",
   "output_path": "__notebook__.ipynb",
   "parameters": {},
   "start_time": "2025-06-17T22:47:05.415266",
   "version": "2.6.0"
  }
 },
 "nbformat": 4,
 "nbformat_minor": 5
}
